{
 "cells": [
  {
   "cell_type": "code",
   "execution_count": 1,
   "id": "d9322395-f9c2-4762-9f1e-faa0d4859271",
   "metadata": {},
   "outputs": [],
   "source": [
    "##Q1. Create a Pandas Series that contains the following data: 4, 8, 15, 16, 23, and 42. Then, print the series."
   ]
  },
  {
   "cell_type": "code",
   "execution_count": 36,
   "id": "2b3683bb-bc2e-4de6-bdd6-71ee5a1c1873",
   "metadata": {},
   "outputs": [],
   "source": [
    "import pandas as pd"
   ]
  },
  {
   "cell_type": "code",
   "execution_count": 37,
   "id": "80bf2204-1d77-4a5a-a61d-eb9f4be835ae",
   "metadata": {},
   "outputs": [],
   "source": [
    "s = pd.Series([4,8,15,16,23,42])"
   ]
  },
  {
   "cell_type": "code",
   "execution_count": 38,
   "id": "cc71b99b-466c-487f-b7dc-063c6bb8e972",
   "metadata": {},
   "outputs": [
    {
     "data": {
      "text/plain": [
       "pandas.core.series.Series"
      ]
     },
     "execution_count": 38,
     "metadata": {},
     "output_type": "execute_result"
    }
   ],
   "source": [
    "type(s)"
   ]
  },
  {
   "cell_type": "code",
   "execution_count": 39,
   "id": "fae59680-7417-4bdb-8eae-361e2e1ea276",
   "metadata": {},
   "outputs": [
    {
     "data": {
      "text/plain": [
       "0     4\n",
       "1     8\n",
       "2    15\n",
       "3    16\n",
       "4    23\n",
       "5    42\n",
       "dtype: int64"
      ]
     },
     "execution_count": 39,
     "metadata": {},
     "output_type": "execute_result"
    }
   ],
   "source": [
    "s"
   ]
  },
  {
   "cell_type": "code",
   "execution_count": null,
   "id": "7649ca89-435f-496b-bf9e-48714033fe71",
   "metadata": {},
   "outputs": [],
   "source": [
    "##Q2. Create a variable of list type containing 10 elements in it, and apply pandas.Series function on the\n",
    "##variable print it."
   ]
  },
  {
   "cell_type": "code",
   "execution_count": 41,
   "id": "aece5e49-c56d-4b6d-b65c-d437801162c1",
   "metadata": {},
   "outputs": [],
   "source": [
    "a = pd.Series([1,2,3,4,5,6,7,8,9,10])"
   ]
  },
  {
   "cell_type": "code",
   "execution_count": 42,
   "id": "bd79eb89-442b-476d-99b1-bd498cef9139",
   "metadata": {},
   "outputs": [
    {
     "data": {
      "text/plain": [
       "0     1\n",
       "1     2\n",
       "2     3\n",
       "3     4\n",
       "4     5\n",
       "5     6\n",
       "6     7\n",
       "7     8\n",
       "8     9\n",
       "9    10\n",
       "dtype: int64"
      ]
     },
     "execution_count": 42,
     "metadata": {},
     "output_type": "execute_result"
    }
   ],
   "source": [
    "a"
   ]
  },
  {
   "cell_type": "code",
   "execution_count": 43,
   "id": "013a5aa7-1e80-4bfa-b3be-8c35ae51e14b",
   "metadata": {},
   "outputs": [],
   "source": [
    "##Q3. Create a Pandas DataFrame that contains the following data:"
   ]
  },
  {
   "cell_type": "code",
   "execution_count": 55,
   "id": "c5316408-fefe-49f0-8a12-8cfa7981399b",
   "metadata": {},
   "outputs": [],
   "source": [
    "df1 = {'name' : ['Alice' ,'Bob' , 'Claire' ],\n",
    "        'age' :    [25 ,    30 ,       27  ]  ,\n",
    "      'gender' :  ['female' , 'male' , 'female']\n",
    "      }"
   ]
  },
  {
   "cell_type": "code",
   "execution_count": 56,
   "id": "e21b1146-0ff7-4ffd-971a-295f51b4498d",
   "metadata": {},
   "outputs": [
    {
     "data": {
      "text/html": [
       "<div>\n",
       "<style scoped>\n",
       "    .dataframe tbody tr th:only-of-type {\n",
       "        vertical-align: middle;\n",
       "    }\n",
       "\n",
       "    .dataframe tbody tr th {\n",
       "        vertical-align: top;\n",
       "    }\n",
       "\n",
       "    .dataframe thead th {\n",
       "        text-align: right;\n",
       "    }\n",
       "</style>\n",
       "<table border=\"1\" class=\"dataframe\">\n",
       "  <thead>\n",
       "    <tr style=\"text-align: right;\">\n",
       "      <th></th>\n",
       "      <th>name</th>\n",
       "      <th>age</th>\n",
       "      <th>gender</th>\n",
       "    </tr>\n",
       "  </thead>\n",
       "  <tbody>\n",
       "    <tr>\n",
       "      <th>0</th>\n",
       "      <td>Alice</td>\n",
       "      <td>25</td>\n",
       "      <td>female</td>\n",
       "    </tr>\n",
       "    <tr>\n",
       "      <th>1</th>\n",
       "      <td>Bob</td>\n",
       "      <td>30</td>\n",
       "      <td>male</td>\n",
       "    </tr>\n",
       "    <tr>\n",
       "      <th>2</th>\n",
       "      <td>Claire</td>\n",
       "      <td>27</td>\n",
       "      <td>female</td>\n",
       "    </tr>\n",
       "  </tbody>\n",
       "</table>\n",
       "</div>"
      ],
      "text/plain": [
       "     name  age  gender\n",
       "0   Alice   25  female\n",
       "1     Bob   30    male\n",
       "2  Claire   27  female"
      ]
     },
     "execution_count": 56,
     "metadata": {},
     "output_type": "execute_result"
    }
   ],
   "source": [
    "pd.DataFrame(df1)"
   ]
  },
  {
   "cell_type": "code",
   "execution_count": null,
   "id": "fd11fd5c-7b71-4e5c-a761-2a6b724046e5",
   "metadata": {},
   "outputs": [],
   "source": [
    "##Q4. What is ‘DataFrame’ in pandas and how is it different from pandas.series? Explain with an example."
   ]
  },
  {
   "cell_type": "code",
   "execution_count": null,
   "id": "b1463e34-2d03-4002-801c-c4f16abd12f7",
   "metadata": {},
   "outputs": [],
   "source": [
    "As noted in the table, a Pandas Series is a 1D array of data, but a single-column DataFrame is a 2D table with one column. The main distinction between the two is this. For a single-column DataFrame, an index can be optional, but a Series has to have an index defined"
   ]
  },
  {
   "cell_type": "code",
   "execution_count": null,
   "id": "0dfa0f55-ee17-48a7-8511-11be075145d9",
   "metadata": {},
   "outputs": [],
   "source": [
    "##Q5. What are some common functions you can use to manipulate data in a Pandas DataFrame? Can\n",
    "##you give an example of when you might use one of these functions?"
   ]
  },
  {
   "cell_type": "code",
   "execution_count": null,
   "id": "029bc221-60f7-4950-8943-4bac7a7eac6e",
   "metadata": {},
   "outputs": [],
   "source": [
    "Pandas Functions to get Deeper Insights into the Dataset\n",
    "isnull() This function helps you to check if there in which row and which column your data has missing values. ...\n",
    "fillna() This function is used to replace missing values or NaN in the df with user-defined values. ...\n",
    "sort_values() ...\n",
    "df.value_counts()"
   ]
  },
  {
   "cell_type": "code",
   "execution_count": null,
   "id": "3f80dd4c-5b11-49d0-bf29-2c0576dc2e89",
   "metadata": {},
   "outputs": [],
   "source": [
    "#Q6. Which of the following is mutable in nature Series, DataFrame, Panel?"
   ]
  },
  {
   "cell_type": "code",
   "execution_count": null,
   "id": "b0091400-2096-4126-b345-4d65a50ff53b",
   "metadata": {},
   "outputs": [],
   "source": [
    " 1. Series\n",
    "        A Series is a one dimensional array like structure with homogeneous data. The values of the series are mutable means we can change any value in series, but the size of the series is immutable so we can not change the size of the series. A series can hold any type of data like integer, decimal, string, python objects, etc."
   ]
  },
  {
   "cell_type": "code",
   "execution_count": null,
   "id": "5ec4fe00-7ecb-4eaf-b931-d36c6ca86617",
   "metadata": {},
   "outputs": [],
   "source": [
    " DataFrame is a two-dimensional array with heterogeneous data. A DataFrame size is mutable and data is also mutable so we can change the data and size of DataFrame at any time"
   ]
  },
  {
   "cell_type": "code",
   "execution_count": null,
   "id": "adedda88-ae6e-4269-94af-f93a9f80f83a",
   "metadata": {},
   "outputs": [],
   "source": [
    "##Q7. Create a DataFrame using multiple Series. Explain with an example."
   ]
  },
  {
   "cell_type": "code",
   "execution_count": 57,
   "id": "674ec1ef-09e3-4055-9462-478058f7ff4c",
   "metadata": {},
   "outputs": [],
   "source": [
    "import pandas as pd\n",
    "r = pd.Series([i*3 for i in range(0, 10)], name='rrr')\n",
    "s = pd.Series([i*5 for i in range(0, 10)], name='sss')"
   ]
  },
  {
   "cell_type": "code",
   "execution_count": null,
   "id": "b4c8fc01-0d10-487c-ba4b-d02f36588cdb",
   "metadata": {},
   "outputs": [],
   "source": [
    "pd.concat[r , s] , axis =1)"
   ]
  },
  {
   "cell_type": "code",
   "execution_count": null,
   "id": "9d731b57-1315-4dad-8699-1269e1e616b2",
   "metadata": {},
   "outputs": [],
   "source": []
  },
  {
   "cell_type": "code",
   "execution_count": null,
   "id": "2405f9b3-b4c0-43eb-ba51-d618ec7484e0",
   "metadata": {},
   "outputs": [],
   "source": []
  },
  {
   "cell_type": "code",
   "execution_count": null,
   "id": "b9ebac09-5a3c-4a3e-8058-226e98d4aeef",
   "metadata": {},
   "outputs": [],
   "source": []
  }
 ],
 "metadata": {
  "kernelspec": {
   "display_name": "Python 3 (ipykernel)",
   "language": "python",
   "name": "python3"
  },
  "language_info": {
   "codemirror_mode": {
    "name": "ipython",
    "version": 3
   },
   "file_extension": ".py",
   "mimetype": "text/x-python",
   "name": "python",
   "nbconvert_exporter": "python",
   "pygments_lexer": "ipython3",
   "version": "3.10.8"
  }
 },
 "nbformat": 4,
 "nbformat_minor": 5
}
